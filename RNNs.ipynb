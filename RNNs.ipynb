{
 "cells": [
  {
   "cell_type": "code",
   "execution_count": 1,
   "metadata": {},
   "outputs": [],
   "source": [
    "using Flux, Plots, Statistics, Random, ProgressMeter"
   ]
  },
  {
   "cell_type": "code",
   "execution_count": 2,
   "metadata": {},
   "outputs": [
    {
     "data": {
      "text/plain": [
       "MersenneTwister(UInt32[0x0004991d], Random.DSFMT.DSFMT_state(Int32[-157111024, 1073331095, -867495699, 1073191104, 1639334311, 1073706424, -1758500981, 1073666098, 189956960, 1073687843  …  -1887146019, 1073447577, 494628161, 1073546910, 291638608, 1883496342, -415515204, 1815711982, 382, 0]), [0.0, 0.0, 0.0, 0.0, 0.0, 0.0, 0.0, 0.0, 0.0, 0.0  …  0.0, 0.0, 0.0, 0.0, 0.0, 0.0, 0.0, 0.0, 0.0, 0.0], UInt128[0x00000000000000000000000000000000, 0x00000000000000000000000000000000, 0x00000000000000000000000000000000, 0x00000000000000000000000000000000, 0x00000000000000000000000000000000, 0x00000000000000000000000000000000, 0x00000000000000000000000000000000, 0x00000000000000000000000000000000, 0x00000000000000000000000000000000, 0x00000000000000000000000000000000  …  0x00000000000000000000000000000000, 0x00000000000000000000000000000000, 0x00000000000000000000000000000000, 0x00000000000000000000000000000000, 0x00000000000000000000000000000000, 0x00000000000000000000000000000000, 0x00000000000000000000000000000000, 0x00000000000000000000000000000000, 0x00000000000000000000000000000000, 0x00000000000000000000000000000000], 1002, 0)"
      ]
     },
     "execution_count": 2,
     "metadata": {},
     "output_type": "execute_result"
    }
   ],
   "source": [
    "Random.seed!(301341)"
   ]
  },
  {
   "cell_type": "code",
   "execution_count": 3,
   "metadata": {},
   "outputs": [],
   "source": [
    "batchsize = 32\n",
    "\n",
    "\n",
    "mnist_data = Flux.Data.MNIST.images();\n",
    "mnist_labels = Flux.Data.MNIST.labels();\n",
    "\n",
    "# clean mnist data\n",
    "mnist_flat = [reshape(Float32.(img), :) for img in mnist_data];\n",
    "\n",
    "# Check to make sure you know what batchseq does\n",
    "all(get.(Flux.batchseq(mnist_flat[1:10]), 4, 0) .== mnist_flat[4])\n",
    "\n",
    "\n",
    "data_loader = Flux.Data.DataLoader((mnist_flat, mnist_labels), batchsize=batchsize);\n",
    "\n"
   ]
  },
  {
   "cell_type": "code",
   "execution_count": 4,
   "metadata": {},
   "outputs": [
    {
     "data": {
      "text/plain": [
       "RMSProp(0.001, 0.9, IdDict{Any,Any}())"
      ]
     },
     "execution_count": 4,
     "metadata": {},
     "output_type": "execute_result"
    }
   ],
   "source": [
    "# create rnn\n",
    "x_size = 1\n",
    "num_labels = 10\n",
    "num_hidden = 64\n",
    "learning_rate = 0.001\n",
    "num_epochs = 5000\n",
    "\n",
    "rnn = Chain(LSTM(1, num_hidden), Dense(num_hidden, num_labels))\n",
    "pred = (x)->softmax(rnn(x))\n",
    "\n",
    "# create optimizer\n",
    "opt = RMSProp(learning_rate)"
   ]
  },
  {
   "cell_type": "code",
   "execution_count": 11,
   "metadata": {},
   "outputs": [
    {
     "ename": "MethodError",
     "evalue": "MethodError: no method matching Progress(::String, ::Int64)\nClosest candidates are:\n  Progress(!Matched::Integer, ::Real) at /Users/Matt/.julia/packages/ProgressMeter/poEzd/src/ProgressMeter.jl:95\n  Progress(!Matched::Integer, ::Real, !Matched::AbstractString) at /Users/Matt/.julia/packages/ProgressMeter/poEzd/src/ProgressMeter.jl:95\n  Progress(!Matched::Integer, ::Real, !Matched::AbstractString, !Matched::Any) at /Users/Matt/.julia/packages/ProgressMeter/poEzd/src/ProgressMeter.jl:95\n  ...",
     "output_type": "error",
     "traceback": [
      "MethodError: no method matching Progress(::String, ::Int64)\nClosest candidates are:\n  Progress(!Matched::Integer, ::Real) at /Users/Matt/.julia/packages/ProgressMeter/poEzd/src/ProgressMeter.jl:95\n  Progress(!Matched::Integer, ::Real, !Matched::AbstractString) at /Users/Matt/.julia/packages/ProgressMeter/poEzd/src/ProgressMeter.jl:95\n  Progress(!Matched::Integer, ::Real, !Matched::AbstractString, !Matched::Any) at /Users/Matt/.julia/packages/ProgressMeter/poEzd/src/ProgressMeter.jl:95\n  ...",
      "",
      "Stacktrace:",
      " [1] top-level scope at In[11]:4"
     ]
    }
   ],
   "source": [
    "ps = params(rnn)\n",
    "for epoch ∈ 1:num_epochs\n",
    "    sum_ℒ = 0.0f0\n",
    "    prg = Progress(\"Epoch $(epoch): \", length(data_loader))\n",
    "    for datum ∈ data_loader\n",
    "        (X, Y) = datum\n",
    "        x = reshape.((Flux.batchseq(X)), 1, :)\n",
    "        y = Flux.batch([Flux.onehot(Y[i], 0:9) for i in 1:batchsize])\n",
    "        Flux.reset!(rnn)\n",
    "        gs = gradient(ps) do\n",
    "            ℒ = Flux.Losses.logitcrossentropy(rnn.(x)[end], y)\n",
    "            sum_ℒ += ℒ\n",
    "            return ℒ\n",
    "        end\n",
    "#         func()\n",
    "        Flux.update!(opt, ps, gs)\n",
    "        next!(prg)\n",
    "    end\n",
    "    print(\"epoch: $(epoch), loss: $(sum_ℒ)\")\n",
    "end"
   ]
  },
  {
   "cell_type": "code",
   "execution_count": 8,
   "metadata": {},
   "outputs": [
    {
     "data": {
      "text/plain": [
       "1875"
      ]
     },
     "execution_count": 8,
     "metadata": {},
     "output_type": "execute_result"
    }
   ],
   "source": [
    "length(data_loader)"
   ]
  },
  {
   "cell_type": "code",
   "execution_count": null,
   "metadata": {},
   "outputs": [],
   "source": []
  }
 ],
 "metadata": {
  "kernelspec": {
   "display_name": "Julia 1.4.1",
   "language": "julia",
   "name": "julia-1.4"
  },
  "language_info": {
   "file_extension": ".jl",
   "mimetype": "application/julia",
   "name": "julia",
   "version": "1.4.1"
  }
 },
 "nbformat": 4,
 "nbformat_minor": 4
}
